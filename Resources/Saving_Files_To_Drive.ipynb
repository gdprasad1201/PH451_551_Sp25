{
  "nbformat": 4,
  "nbformat_minor": 0,
  "metadata": {
    "colab": {
      "provenance": [],
      "authorship_tag": "ABX9TyOli8I2TPCSkuxWWVPacYju",
      "include_colab_link": true
    },
    "kernelspec": {
      "name": "python3",
      "display_name": "Python 3"
    },
    "language_info": {
      "name": "python"
    }
  },
  "cells": [
    {
      "cell_type": "markdown",
      "metadata": {
        "id": "view-in-github",
        "colab_type": "text"
      },
      "source": [
        "<a href=\"https://colab.research.google.com/github/UAPH451551/PH451_551_Sp25/blob/main/Resources/Saving_Files_To_Drive.ipynb\" target=\"_parent\"><img src=\"https://colab.research.google.com/assets/colab-badge.svg\" alt=\"Open In Colab\"/></a>"
      ]
    },
    {
      "cell_type": "markdown",
      "source": [
        "# Saving Files\n",
        "\n",
        "In this notebook we'll be looking at how to save files to google drive. <br>\n",
        "Note: you may want to create a new google account to do this if you <br>\n",
        "don't want to risk accidentally modifying your personal google drive."
      ],
      "metadata": {
        "id": "x_2UIHEub5MA"
      }
    },
    {
      "cell_type": "markdown",
      "source": [
        "## Step 1: Mounting google drive to colab\n",
        "\n",
        "Click on the folder icon on the far left of the screen and then click <br>\n",
        "the \"Mount Drive\" icon which looks like a folder with the google drive <br>\n",
        "triangle symbol on it. This will add the following two lines of code to <br>\n",
        "your notebook. Running these will ask permission for access to your <br>\n",
        "google account and will then connect your google drive to colab."
      ],
      "metadata": {
        "id": "9zUfQ0WEcTqQ"
      }
    },
    {
      "cell_type": "code",
      "source": [
        "from google.colab import drive\n",
        "drive.mount('/content/drive')"
      ],
      "metadata": {
        "colab": {
          "base_uri": "https://localhost:8080/"
        },
        "id": "l5JhDeOKb4HB",
        "outputId": "e0ba1ef9-702d-4a43-8cdc-4afd5b3a8490"
      },
      "execution_count": 6,
      "outputs": [
        {
          "output_type": "stream",
          "name": "stdout",
          "text": [
            "Drive already mounted at /content/drive; to attempt to forcibly remount, call drive.mount(\"/content/drive\", force_remount=True).\n"
          ]
        }
      ]
    },
    {
      "cell_type": "markdown",
      "source": [
        "## Step 2: Saving and loading files in drive using some common formats\n",
        "\n",
        "Note: The standard file path for your google drive is this: <br>\n",
        "`/content/drive/MyDrive/`\n",
        "\n",
        "You can further save to specific folders in your drive by adding to the <br>\n",
        "filepath."
      ],
      "metadata": {
        "id": "ljTCpnzQc5Ez"
      }
    },
    {
      "cell_type": "code",
      "execution_count": 7,
      "metadata": {
        "id": "uMi-p2wvb0IL"
      },
      "outputs": [],
      "source": [
        "import numpy as np\n",
        "import pandas as pd\n",
        "from torch import nn\n",
        "import torch"
      ]
    },
    {
      "cell_type": "code",
      "source": [
        "array = np.array((1,2,3))\n",
        "np.save('/content/drive/MyDrive/array.npy', array)\n",
        "print(array)\n",
        "array2 = np.load('/content/drive/MyDrive/array.npy')\n",
        "print(array2)"
      ],
      "metadata": {
        "colab": {
          "base_uri": "https://localhost:8080/"
        },
        "id": "n8DOY6ZQdTo6",
        "outputId": "32dc3628-da60-4d06-9be6-c70ff64d4bd4"
      },
      "execution_count": 8,
      "outputs": [
        {
          "output_type": "stream",
          "name": "stdout",
          "text": [
            "[1 2 3]\n",
            "[1 2 3]\n"
          ]
        }
      ]
    },
    {
      "cell_type": "code",
      "source": [
        "dataframe = pd.DataFrame((1,2,3))\n",
        "dataframe.to_csv('/content/drive/MyDrive/dataframe.csv')\n",
        "print(dataframe)\n",
        "dataframe2 = pd.read_csv('/content/drive/MyDrive/dataframe.csv')\n",
        "print(dataframe2)\n",
        "# Note that writing to and reading from csv may modify the headers unless your\n",
        "# original dataframe has headers included."
      ],
      "metadata": {
        "colab": {
          "base_uri": "https://localhost:8080/"
        },
        "id": "gazpUNkEdpUL",
        "outputId": "c9637d1e-a796-42c9-cb54-0c48a85adda0"
      },
      "execution_count": 9,
      "outputs": [
        {
          "output_type": "stream",
          "name": "stdout",
          "text": [
            "   0\n",
            "0  1\n",
            "1  2\n",
            "2  3\n",
            "   Unnamed: 0  0\n",
            "0           0  1\n",
            "1           1  2\n",
            "2           2  3\n"
          ]
        }
      ]
    },
    {
      "cell_type": "code",
      "source": [
        "model = nn.Sequential()\n",
        "model.append(nn.Linear(3, 64))\n",
        "model.append(nn.ReLU())\n",
        "model.append(nn.Linear(64, 8))\n",
        "\n",
        "# Save the entire model\n",
        "torch.save(model, 'model.h5')\n",
        "# Load the entire model\n",
        "model2 = torch.load('model.h5')\n",
        "\n",
        "# Save just the model weights\n",
        "torch.save(model.state_dict(), \"model_weights.h5\")\n",
        "\n",
        "# Build a new model\n",
        "model3 = nn.Sequential()\n",
        "model3.append(nn.Linear(3, 64))\n",
        "model3.append(nn.ReLU())\n",
        "model3.append(nn.Linear(64, 8))\n",
        "\n",
        "# Load weights for model from h5 file\n",
        "model3.load_state_dict(torch.load('model_weights.h5'))\n",
        "\n",
        "print(model)\n",
        "print(model2)\n",
        "print(model3) # This will have a different return since it's"
      ],
      "metadata": {
        "colab": {
          "base_uri": "https://localhost:8080/"
        },
        "id": "InL_VsOweWjZ",
        "outputId": "5c71da7c-acbb-4862-fa0f-4bbb8c232e31"
      },
      "execution_count": 14,
      "outputs": [
        {
          "output_type": "stream",
          "name": "stdout",
          "text": [
            "Sequential(\n",
            "  (0): Linear(in_features=3, out_features=64, bias=True)\n",
            "  (1): ReLU()\n",
            "  (2): Linear(in_features=64, out_features=8, bias=True)\n",
            ")\n",
            "Sequential(\n",
            "  (0): Linear(in_features=3, out_features=64, bias=True)\n",
            "  (1): ReLU()\n",
            "  (2): Linear(in_features=64, out_features=8, bias=True)\n",
            ")\n",
            "Sequential(\n",
            "  (0): Linear(in_features=3, out_features=64, bias=True)\n",
            "  (1): ReLU()\n",
            "  (2): Linear(in_features=64, out_features=8, bias=True)\n",
            ")\n"
          ]
        }
      ]
    },
    {
      "cell_type": "markdown",
      "source": [
        "## Step 3: Saving general python files using pickle\n",
        "\n",
        "Pickle is a compression and storage protocol for python. It can be used <br>\n",
        "for general python objects. Note: it is easy to overwrite your files <br>\n",
        "using pickle so you should be especially careful with 'wb' (write) vs <br> 'rb' (read)."
      ],
      "metadata": {
        "id": "5p3tVsyOfO2j"
      }
    },
    {
      "cell_type": "code",
      "source": [
        "import pickle as pkl\n",
        "import numpy as np"
      ],
      "metadata": {
        "id": "2WQdiYIQfsbv"
      },
      "execution_count": 15,
      "outputs": []
    },
    {
      "cell_type": "code",
      "source": [
        "array = np.array((1,2,3))\n",
        "pkl.dump(array, open('array.p', 'wb'))\n",
        "print(array)\n",
        "array2 = pkl.load(open('array.p', 'rb'))\n",
        "print(array2)"
      ],
      "metadata": {
        "colab": {
          "base_uri": "https://localhost:8080/"
        },
        "id": "w0gxCTE-ft5m",
        "outputId": "a60d8d6f-fe88-4aec-b2ce-3e4662d7001b"
      },
      "execution_count": 16,
      "outputs": [
        {
          "output_type": "stream",
          "name": "stdout",
          "text": [
            "[1 2 3]\n",
            "[1 2 3]\n"
          ]
        }
      ]
    }
  ]
}
